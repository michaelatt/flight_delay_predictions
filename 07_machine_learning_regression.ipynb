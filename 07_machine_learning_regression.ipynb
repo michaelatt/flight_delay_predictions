{
 "cells": [
  {
   "cell_type": "code",
   "execution_count": 1,
   "id": "7caa985b",
   "metadata": {},
   "outputs": [],
   "source": [
    "#importing needed libraries \n",
    "\n",
    "import numpy as np\n",
    "import pandas as pd\n",
    "import matplotlib.pyplot as plt\n",
    "import seaborn as sns\n",
    "import os\n",
    "\n",
    "%matplotlib inline\n",
    "\n",
    "#ignore warnings\n",
    "import warnings\n",
    "warnings.filterwarnings('ignore')\n",
    "\n",
    "from sklearn.model_selection import train_test_split"
   ]
  },
  {
   "cell_type": "code",
   "execution_count": 2,
   "id": "067c582b",
   "metadata": {},
   "outputs": [],
   "source": [
    "#import our 2 datasets and merge them into 1\n",
    "\n",
    "os.chdir('C:\\\\Users\\\\solov\\\\Desktop\\\\sample_project\\\\data')\n",
    "\n",
    "df1 = pd.read_csv('ATL_ready_ML.csv') #Atlanta dataset\n",
    "df2 = pd.read_csv('PHX_ready_ML.csv') #Phoenix dataset"
   ]
  },
  {
   "cell_type": "code",
   "execution_count": 3,
   "id": "4edee9d5",
   "metadata": {},
   "outputs": [
    {
     "data": {
      "text/plain": [
       "70036"
      ]
     },
     "execution_count": 3,
     "metadata": {},
     "output_type": "execute_result"
    }
   ],
   "source": [
    "#here we concatenate the 2 dataframes, \n",
    "#meaning stack them one on top of the other\n",
    "#and the resulting sum of samples should be as in previous step\n",
    "df = pd.concat([df1,df2],ignore_index=True)\n",
    "len(df)"
   ]
  },
  {
   "cell_type": "code",
   "execution_count": 4,
   "id": "fee9e10a",
   "metadata": {},
   "outputs": [
    {
     "data": {
      "text/html": [
       "<div>\n",
       "<style scoped>\n",
       "    .dataframe tbody tr th:only-of-type {\n",
       "        vertical-align: middle;\n",
       "    }\n",
       "\n",
       "    .dataframe tbody tr th {\n",
       "        vertical-align: top;\n",
       "    }\n",
       "\n",
       "    .dataframe thead th {\n",
       "        text-align: right;\n",
       "    }\n",
       "</style>\n",
       "<table border=\"1\" class=\"dataframe\">\n",
       "  <thead>\n",
       "    <tr style=\"text-align: right;\">\n",
       "      <th></th>\n",
       "      <th>flight_number</th>\n",
       "      <th>scheduled_elapsed_time_(minutes)</th>\n",
       "      <th>actual_elapsed_time_(minutes)</th>\n",
       "      <th>departure_delay_(minutes)</th>\n",
       "      <th>taxi-out_time_(minutes)</th>\n",
       "      <th>DepDel15</th>\n",
       "      <th>dest_airport_label</th>\n",
       "      <th>month</th>\n",
       "      <th>day</th>\n",
       "      <th>act_dep_time_hr</th>\n",
       "      <th>act_dep_time_min</th>\n",
       "      <th>sch_dep_time_hr</th>\n",
       "      <th>sch_dep_time_min</th>\n",
       "      <th>wo_time_hr</th>\n",
       "      <th>wo_time_min</th>\n",
       "    </tr>\n",
       "  </thead>\n",
       "  <tbody>\n",
       "    <tr>\n",
       "      <th>0</th>\n",
       "      <td>242</td>\n",
       "      <td>156</td>\n",
       "      <td>145</td>\n",
       "      <td>117</td>\n",
       "      <td>15</td>\n",
       "      <td>1</td>\n",
       "      <td>14</td>\n",
       "      <td>1</td>\n",
       "      <td>1</td>\n",
       "      <td>20</td>\n",
       "      <td>20</td>\n",
       "      <td>18</td>\n",
       "      <td>23</td>\n",
       "      <td>20</td>\n",
       "      <td>35</td>\n",
       "    </tr>\n",
       "    <tr>\n",
       "      <th>1</th>\n",
       "      <td>401</td>\n",
       "      <td>128</td>\n",
       "      <td>104</td>\n",
       "      <td>-1</td>\n",
       "      <td>12</td>\n",
       "      <td>0</td>\n",
       "      <td>45</td>\n",
       "      <td>1</td>\n",
       "      <td>1</td>\n",
       "      <td>15</td>\n",
       "      <td>21</td>\n",
       "      <td>15</td>\n",
       "      <td>22</td>\n",
       "      <td>15</td>\n",
       "      <td>33</td>\n",
       "    </tr>\n",
       "    <tr>\n",
       "      <th>2</th>\n",
       "      <td>426</td>\n",
       "      <td>81</td>\n",
       "      <td>76</td>\n",
       "      <td>-4</td>\n",
       "      <td>16</td>\n",
       "      <td>0</td>\n",
       "      <td>8</td>\n",
       "      <td>1</td>\n",
       "      <td>1</td>\n",
       "      <td>10</td>\n",
       "      <td>52</td>\n",
       "      <td>10</td>\n",
       "      <td>56</td>\n",
       "      <td>11</td>\n",
       "      <td>8</td>\n",
       "    </tr>\n",
       "    <tr>\n",
       "      <th>3</th>\n",
       "      <td>440</td>\n",
       "      <td>262</td>\n",
       "      <td>270</td>\n",
       "      <td>-6</td>\n",
       "      <td>16</td>\n",
       "      <td>0</td>\n",
       "      <td>100</td>\n",
       "      <td>1</td>\n",
       "      <td>1</td>\n",
       "      <td>17</td>\n",
       "      <td>34</td>\n",
       "      <td>17</td>\n",
       "      <td>40</td>\n",
       "      <td>17</td>\n",
       "      <td>50</td>\n",
       "    </tr>\n",
       "    <tr>\n",
       "      <th>4</th>\n",
       "      <td>448</td>\n",
       "      <td>146</td>\n",
       "      <td>141</td>\n",
       "      <td>31</td>\n",
       "      <td>19</td>\n",
       "      <td>1</td>\n",
       "      <td>14</td>\n",
       "      <td>1</td>\n",
       "      <td>1</td>\n",
       "      <td>22</td>\n",
       "      <td>17</td>\n",
       "      <td>21</td>\n",
       "      <td>46</td>\n",
       "      <td>22</td>\n",
       "      <td>36</td>\n",
       "    </tr>\n",
       "  </tbody>\n",
       "</table>\n",
       "</div>"
      ],
      "text/plain": [
       "   flight_number  scheduled_elapsed_time_(minutes)  \\\n",
       "0            242                               156   \n",
       "1            401                               128   \n",
       "2            426                                81   \n",
       "3            440                               262   \n",
       "4            448                               146   \n",
       "\n",
       "   actual_elapsed_time_(minutes)  departure_delay_(minutes)  \\\n",
       "0                            145                        117   \n",
       "1                            104                         -1   \n",
       "2                             76                         -4   \n",
       "3                            270                         -6   \n",
       "4                            141                         31   \n",
       "\n",
       "   taxi-out_time_(minutes)  DepDel15  dest_airport_label  month  day  \\\n",
       "0                       15         1                  14      1    1   \n",
       "1                       12         0                  45      1    1   \n",
       "2                       16         0                   8      1    1   \n",
       "3                       16         0                 100      1    1   \n",
       "4                       19         1                  14      1    1   \n",
       "\n",
       "   act_dep_time_hr  act_dep_time_min  sch_dep_time_hr  sch_dep_time_min  \\\n",
       "0               20                20               18                23   \n",
       "1               15                21               15                22   \n",
       "2               10                52               10                56   \n",
       "3               17                34               17                40   \n",
       "4               22                17               21                46   \n",
       "\n",
       "   wo_time_hr  wo_time_min  \n",
       "0          20           35  \n",
       "1          15           33  \n",
       "2          11            8  \n",
       "3          17           50  \n",
       "4          22           36  "
      ]
     },
     "execution_count": 4,
     "metadata": {},
     "output_type": "execute_result"
    }
   ],
   "source": [
    "df.head()"
   ]
  },
  {
   "cell_type": "code",
   "execution_count": 5,
   "id": "de00ad03",
   "metadata": {},
   "outputs": [],
   "source": [
    "df = df[df.DepDel15 == 1] #so we are only considering the flights that are actually DELAYED"
   ]
  },
  {
   "cell_type": "code",
   "execution_count": 6,
   "id": "9cf962c0",
   "metadata": {},
   "outputs": [
    {
     "data": {
      "text/html": [
       "<div>\n",
       "<style scoped>\n",
       "    .dataframe tbody tr th:only-of-type {\n",
       "        vertical-align: middle;\n",
       "    }\n",
       "\n",
       "    .dataframe tbody tr th {\n",
       "        vertical-align: top;\n",
       "    }\n",
       "\n",
       "    .dataframe thead th {\n",
       "        text-align: right;\n",
       "    }\n",
       "</style>\n",
       "<table border=\"1\" class=\"dataframe\">\n",
       "  <thead>\n",
       "    <tr style=\"text-align: right;\">\n",
       "      <th></th>\n",
       "      <th>flight_number</th>\n",
       "      <th>scheduled_elapsed_time_(minutes)</th>\n",
       "      <th>actual_elapsed_time_(minutes)</th>\n",
       "      <th>departure_delay_(minutes)</th>\n",
       "      <th>taxi-out_time_(minutes)</th>\n",
       "      <th>DepDel15</th>\n",
       "      <th>dest_airport_label</th>\n",
       "      <th>month</th>\n",
       "      <th>day</th>\n",
       "      <th>act_dep_time_hr</th>\n",
       "      <th>act_dep_time_min</th>\n",
       "      <th>sch_dep_time_hr</th>\n",
       "      <th>sch_dep_time_min</th>\n",
       "      <th>wo_time_hr</th>\n",
       "      <th>wo_time_min</th>\n",
       "    </tr>\n",
       "  </thead>\n",
       "  <tbody>\n",
       "    <tr>\n",
       "      <th>0</th>\n",
       "      <td>242</td>\n",
       "      <td>156</td>\n",
       "      <td>145</td>\n",
       "      <td>117</td>\n",
       "      <td>15</td>\n",
       "      <td>1</td>\n",
       "      <td>14</td>\n",
       "      <td>1</td>\n",
       "      <td>1</td>\n",
       "      <td>20</td>\n",
       "      <td>20</td>\n",
       "      <td>18</td>\n",
       "      <td>23</td>\n",
       "      <td>20</td>\n",
       "      <td>35</td>\n",
       "    </tr>\n",
       "    <tr>\n",
       "      <th>4</th>\n",
       "      <td>448</td>\n",
       "      <td>146</td>\n",
       "      <td>141</td>\n",
       "      <td>31</td>\n",
       "      <td>19</td>\n",
       "      <td>1</td>\n",
       "      <td>14</td>\n",
       "      <td>1</td>\n",
       "      <td>1</td>\n",
       "      <td>22</td>\n",
       "      <td>17</td>\n",
       "      <td>21</td>\n",
       "      <td>46</td>\n",
       "      <td>22</td>\n",
       "      <td>36</td>\n",
       "    </tr>\n",
       "    <tr>\n",
       "      <th>5</th>\n",
       "      <td>466</td>\n",
       "      <td>77</td>\n",
       "      <td>71</td>\n",
       "      <td>15</td>\n",
       "      <td>21</td>\n",
       "      <td>1</td>\n",
       "      <td>8</td>\n",
       "      <td>1</td>\n",
       "      <td>1</td>\n",
       "      <td>12</td>\n",
       "      <td>35</td>\n",
       "      <td>12</td>\n",
       "      <td>20</td>\n",
       "      <td>12</td>\n",
       "      <td>56</td>\n",
       "    </tr>\n",
       "    <tr>\n",
       "      <th>9</th>\n",
       "      <td>799</td>\n",
       "      <td>79</td>\n",
       "      <td>68</td>\n",
       "      <td>60</td>\n",
       "      <td>15</td>\n",
       "      <td>1</td>\n",
       "      <td>8</td>\n",
       "      <td>1</td>\n",
       "      <td>1</td>\n",
       "      <td>9</td>\n",
       "      <td>51</td>\n",
       "      <td>8</td>\n",
       "      <td>51</td>\n",
       "      <td>10</td>\n",
       "      <td>6</td>\n",
       "    </tr>\n",
       "    <tr>\n",
       "      <th>13</th>\n",
       "      <td>1284</td>\n",
       "      <td>74</td>\n",
       "      <td>61</td>\n",
       "      <td>26</td>\n",
       "      <td>16</td>\n",
       "      <td>1</td>\n",
       "      <td>8</td>\n",
       "      <td>1</td>\n",
       "      <td>1</td>\n",
       "      <td>22</td>\n",
       "      <td>40</td>\n",
       "      <td>22</td>\n",
       "      <td>14</td>\n",
       "      <td>22</td>\n",
       "      <td>56</td>\n",
       "    </tr>\n",
       "  </tbody>\n",
       "</table>\n",
       "</div>"
      ],
      "text/plain": [
       "    flight_number  scheduled_elapsed_time_(minutes)  \\\n",
       "0             242                               156   \n",
       "4             448                               146   \n",
       "5             466                                77   \n",
       "9             799                                79   \n",
       "13           1284                                74   \n",
       "\n",
       "    actual_elapsed_time_(minutes)  departure_delay_(minutes)  \\\n",
       "0                             145                        117   \n",
       "4                             141                         31   \n",
       "5                              71                         15   \n",
       "9                              68                         60   \n",
       "13                             61                         26   \n",
       "\n",
       "    taxi-out_time_(minutes)  DepDel15  dest_airport_label  month  day  \\\n",
       "0                        15         1                  14      1    1   \n",
       "4                        19         1                  14      1    1   \n",
       "5                        21         1                   8      1    1   \n",
       "9                        15         1                   8      1    1   \n",
       "13                       16         1                   8      1    1   \n",
       "\n",
       "    act_dep_time_hr  act_dep_time_min  sch_dep_time_hr  sch_dep_time_min  \\\n",
       "0                20                20               18                23   \n",
       "4                22                17               21                46   \n",
       "5                12                35               12                20   \n",
       "9                 9                51                8                51   \n",
       "13               22                40               22                14   \n",
       "\n",
       "    wo_time_hr  wo_time_min  \n",
       "0           20           35  \n",
       "4           22           36  \n",
       "5           12           56  \n",
       "9           10            6  \n",
       "13          22           56  "
      ]
     },
     "execution_count": 6,
     "metadata": {},
     "output_type": "execute_result"
    }
   ],
   "source": [
    "df.head()"
   ]
  },
  {
   "cell_type": "code",
   "execution_count": 7,
   "id": "82f8638a",
   "metadata": {},
   "outputs": [
    {
     "data": {
      "text/plain": [
       "Index(['flight_number', 'scheduled_elapsed_time_(minutes)',\n",
       "       'actual_elapsed_time_(minutes)', 'departure_delay_(minutes)',\n",
       "       'taxi-out_time_(minutes)', 'DepDel15', 'dest_airport_label', 'month',\n",
       "       'day', 'act_dep_time_hr', 'act_dep_time_min', 'sch_dep_time_hr',\n",
       "       'sch_dep_time_min', 'wo_time_hr', 'wo_time_min'],\n",
       "      dtype='object')"
      ]
     },
     "execution_count": 7,
     "metadata": {},
     "output_type": "execute_result"
    }
   ],
   "source": [
    "df.columns"
   ]
  },
  {
   "cell_type": "markdown",
   "id": "d682b913",
   "metadata": {},
   "source": [
    "## We have removed the columns that contain data that would \n",
    "## make it obvious for the ML algo the outcome of prediction"
   ]
  },
  {
   "cell_type": "code",
   "execution_count": 8,
   "id": "34a0c910",
   "metadata": {},
   "outputs": [],
   "source": [
    "df = df.drop(['wo_time_hr', 'wo_time_min','act_dep_time_hr', 'act_dep_time_min'], axis=1)"
   ]
  },
  {
   "cell_type": "code",
   "execution_count": 10,
   "id": "985161a1",
   "metadata": {},
   "outputs": [],
   "source": [
    "df = df.drop('DepDel15', axis =1)"
   ]
  },
  {
   "cell_type": "code",
   "execution_count": 11,
   "id": "9b0ac183",
   "metadata": {},
   "outputs": [
    {
     "data": {
      "text/plain": [
       "Index(['flight_number', 'scheduled_elapsed_time_(minutes)',\n",
       "       'actual_elapsed_time_(minutes)', 'departure_delay_(minutes)',\n",
       "       'taxi-out_time_(minutes)', 'dest_airport_label', 'month', 'day',\n",
       "       'sch_dep_time_hr', 'sch_dep_time_min'],\n",
       "      dtype='object')"
      ]
     },
     "execution_count": 11,
     "metadata": {},
     "output_type": "execute_result"
    }
   ],
   "source": [
    "df.columns"
   ]
  },
  {
   "cell_type": "markdown",
   "id": "3e1e4fc5",
   "metadata": {},
   "source": [
    "## Now let's get down to modelling"
   ]
  },
  {
   "cell_type": "code",
   "execution_count": 16,
   "id": "2c8a9ab1",
   "metadata": {},
   "outputs": [
    {
     "name": "stdout",
     "output_type": "stream",
     "text": [
      "R^2 score is:  0.0021642457789885494\n",
      "MAE:  44.55359761680167\n",
      "MSE:  7813.7654538632705\n"
     ]
    }
   ],
   "source": [
    "from sklearn.linear_model import Ridge\n",
    "from sklearn.metrics import mean_absolute_error\n",
    "from sklearn.metrics import mean_squared_error\n",
    "\n",
    "np.random.seed(42)\n",
    "\n",
    "#split the data into X (features) and y (labels)\n",
    "X = df.drop('departure_delay_(minutes)', axis = 1)\n",
    "y = df['departure_delay_(minutes)']\n",
    "\n",
    "# split into train and test sets\n",
    "X_train, X_test, y_train, y_test = train_test_split(X, y, test_size = 0.2)\n",
    "\n",
    "#Instantiate and fit model (on the training set)\n",
    "model = Ridge()\n",
    "model.fit(X_train, y_train)\n",
    "\n",
    "y_preds_model = model.predict(X_test)\n",
    "\n",
    "r2_model = model.score(X_test, y_test)\n",
    "mae_model = mean_absolute_error(y_test, y_preds_model)\n",
    "mse_model = mean_squared_error(y_test, y_preds_model)\n",
    "\n",
    "print('R^2 score is: ', r2_model)\n",
    "print('MAE: ', mae_model)\n",
    "print('MSE: ', mse_model)"
   ]
  },
  {
   "cell_type": "code",
   "execution_count": 18,
   "id": "cafc80d1",
   "metadata": {},
   "outputs": [
    {
     "data": {
      "text/plain": [
       "46653    70\n",
       "39092    21\n",
       "62461    21\n",
       "16568    15\n",
       "4234     66\n",
       "         ..\n",
       "7534     19\n",
       "4479     32\n",
       "4275     18\n",
       "41796    49\n",
       "20860    22\n",
       "Name: departure_delay_(minutes), Length: 2348, dtype: int64"
      ]
     },
     "execution_count": 18,
     "metadata": {},
     "output_type": "execute_result"
    }
   ],
   "source": [
    "y_test"
   ]
  },
  {
   "cell_type": "code",
   "execution_count": 21,
   "id": "ec5eca7e",
   "metadata": {},
   "outputs": [
    {
     "data": {
      "text/plain": [
       "array([78.29075698, 59.02015804, 55.9347454 , 66.389867  , 64.7211341 ,\n",
       "       58.1558375 , 60.69185559, 57.23896013, 60.98741691, 65.8780344 ,\n",
       "       61.5024151 , 63.13943418, 63.73817148, 65.84625057, 61.84470824,\n",
       "       72.17815334, 60.26379189, 55.69735836, 65.62477398, 58.79495659])"
      ]
     },
     "execution_count": 21,
     "metadata": {},
     "output_type": "execute_result"
    }
   ],
   "source": [
    "y_preds_model[:20]"
   ]
  },
  {
   "cell_type": "code",
   "execution_count": 22,
   "id": "ec5519e2",
   "metadata": {},
   "outputs": [
    {
     "data": {
      "text/plain": [
       "array([211.49,  65.01,  50.57, 101.59,  75.16,  65.59,  66.51,  63.4 ,\n",
       "        47.46,  94.15,  77.87, 109.4 ,  63.62,  49.91,  62.01, 204.2 ,\n",
       "        43.74,  57.57,  39.2 ,  65.21])"
      ]
     },
     "execution_count": 22,
     "metadata": {},
     "output_type": "execute_result"
    }
   ],
   "source": [
    "y_preds_rf[:20]"
   ]
  },
  {
   "cell_type": "code",
   "execution_count": 17,
   "id": "360a9cdb",
   "metadata": {},
   "outputs": [
    {
     "name": "stdout",
     "output_type": "stream",
     "text": [
      "R^2 score is:  -0.03244153536392225\n",
      "MAE:  47.50793015332197\n",
      "MSE:  8084.753395570698\n"
     ]
    }
   ],
   "source": [
    "from sklearn.ensemble import RandomForestRegressor\n",
    "from sklearn.metrics import mean_absolute_error\n",
    "from sklearn.metrics import mean_squared_error\n",
    "\n",
    "np.random.seed(42)\n",
    "\n",
    "#split the data into X (features) and y (labels)\n",
    "X = df.drop('departure_delay_(minutes)', axis = 1)\n",
    "y = df['departure_delay_(minutes)']\n",
    "\n",
    "# split into train and test sets\n",
    "X_train, X_test, y_train, y_test = train_test_split(X, y, test_size = 0.2)\n",
    "\n",
    "#Instantiate and fit model (on the training set)\n",
    "rf = RandomForestRegressor()\n",
    "rf.fit(X_train, y_train)\n",
    "\n",
    "y_preds_rf = rf.predict(X_test)\n",
    "\n",
    "r2_rf = rf.score(X_test, y_test)\n",
    "mae_rf = mean_absolute_error(y_test, y_preds_rf)\n",
    "mse_rf = mean_squared_error(y_test, y_preds_rf)\n",
    "\n",
    "print('R^2 score is: ', r2_rf)\n",
    "print('MAE: ', mae_rf)\n",
    "print('MSE: ', mse_rf)"
   ]
  },
  {
   "cell_type": "markdown",
   "id": "786c0924",
   "metadata": {},
   "source": [
    "R^2 (pronounced r-squared) or coefficient of determination - \n",
    "Compares your models predictions to the mean of the targets. Values can range from negative infinity (a very poor model) to 1. For example, if all your model does is predict the mean of the targets, its R^2 value would be 0. And if your model perfectly predicts a range of numbers it's R^2 value would be 1. Higher is better.\n",
    "Mean absolute error (MAE) - The average of the absolute differences between predictions and actual values. It gives you an idea of how wrong your predictions were. Lower is better.\n",
    "Mean squared error (MSE) - The average squared differences between predictions and actual values. Squaring the errors removes negative errors. It also amplifies outliers (samples which have larger errors). Lower is better."
   ]
  }
 ],
 "metadata": {
  "kernelspec": {
   "display_name": "Python 3 (ipykernel)",
   "language": "python",
   "name": "python3"
  },
  "language_info": {
   "codemirror_mode": {
    "name": "ipython",
    "version": 3
   },
   "file_extension": ".py",
   "mimetype": "text/x-python",
   "name": "python",
   "nbconvert_exporter": "python",
   "pygments_lexer": "ipython3",
   "version": "3.11.4"
  }
 },
 "nbformat": 4,
 "nbformat_minor": 5
}
