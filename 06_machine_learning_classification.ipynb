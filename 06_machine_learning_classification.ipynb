{
 "cells": [
  {
   "cell_type": "code",
   "execution_count": 1,
   "id": "babad28c",
   "metadata": {},
   "outputs": [],
   "source": [
    "#importing needed libraries \n",
    "\n",
    "import numpy as np\n",
    "import pandas as pd\n",
    "import matplotlib.pyplot as plt\n",
    "import seaborn as sns\n",
    "import os\n",
    "\n",
    "%matplotlib inline\n",
    "\n",
    "#importing needed models\n",
    "from sklearn.linear_model import LogisticRegression\n",
    "from sklearn.neighbors import KNeighborsClassifier\n",
    "from sklearn.ensemble import RandomForestClassifier\n",
    "from sklearn import svm\n",
    "\n",
    "#importing model evaluators \n",
    "from sklearn.model_selection import train_test_split, cross_val_score\n",
    "from sklearn.model_selection import RandomizedSearchCV, GridSearchCV\n",
    "from sklearn.metrics import confusion_matrix,classification_report\n",
    "from sklearn.metrics import precision_score, recall_score, f1_score\n",
    "from sklearn.metrics import RocCurveDisplay, roc_curve, auc\n",
    "\n",
    "#ignore warnings\n",
    "import warnings\n",
    "warnings.filterwarnings('ignore')"
   ]
  },
  {
   "cell_type": "code",
   "execution_count": 2,
   "id": "06611033",
   "metadata": {},
   "outputs": [],
   "source": [
    "#import our 2 datasets and merge them into 1\n",
    "\n",
    "os.chdir('C:\\\\Users\\\\solov\\\\Desktop\\\\sample_project\\\\data')\n",
    "\n",
    "df1 = pd.read_csv('ATL_ready_ML.csv') #Atlanta dataset\n",
    "df2 = pd.read_csv('PHX_ready_ML.csv') #Phoenix dataset"
   ]
  },
  {
   "cell_type": "code",
   "execution_count": 3,
   "id": "e73630b5",
   "metadata": {},
   "outputs": [
    {
     "data": {
      "text/plain": [
       "12766"
      ]
     },
     "execution_count": 3,
     "metadata": {},
     "output_type": "execute_result"
    }
   ],
   "source": [
    "len(df1) #number of samples in Atlanta"
   ]
  },
  {
   "cell_type": "code",
   "execution_count": 4,
   "id": "b3ccf398",
   "metadata": {},
   "outputs": [
    {
     "data": {
      "text/plain": [
       "57270"
      ]
     },
     "execution_count": 4,
     "metadata": {},
     "output_type": "execute_result"
    }
   ],
   "source": [
    "len(df2) #number of samples in Phoenix"
   ]
  },
  {
   "cell_type": "code",
   "execution_count": 5,
   "id": "b2443227",
   "metadata": {},
   "outputs": [
    {
     "data": {
      "text/plain": [
       "70036"
      ]
     },
     "execution_count": 5,
     "metadata": {},
     "output_type": "execute_result"
    }
   ],
   "source": [
    "len(df1) + len(df2) #the sum of samples"
   ]
  },
  {
   "cell_type": "code",
   "execution_count": 6,
   "id": "a744eddc",
   "metadata": {},
   "outputs": [
    {
     "data": {
      "text/plain": [
       "70036"
      ]
     },
     "execution_count": 6,
     "metadata": {},
     "output_type": "execute_result"
    }
   ],
   "source": [
    "#here we concatenate the 2 dataframes, \n",
    "#meaning stack them one on top of the other\n",
    "#and the resulting sum of samples should be as in previous step\n",
    "df = pd.concat([df1,df2],ignore_index=True)\n",
    "len(df)"
   ]
  },
  {
   "cell_type": "code",
   "execution_count": 7,
   "id": "44c2082e",
   "metadata": {},
   "outputs": [],
   "source": [
    "df['Target'] = df['DepDel15']\n",
    "df = df.drop('DepDel15',axis=1)"
   ]
  },
  {
   "cell_type": "code",
   "execution_count": 8,
   "id": "196d33de",
   "metadata": {},
   "outputs": [
    {
     "data": {
      "text/plain": [
       "Target\n",
       "0    0.8324\n",
       "1    0.1676\n",
       "Name: proportion, dtype: float64"
      ]
     },
     "execution_count": 8,
     "metadata": {},
     "output_type": "execute_result"
    }
   ],
   "source": [
    "#here we see that our column DepDel15 has far more\n",
    "#on-time flights rather than delayed flights\n",
    "\n",
    "#this is called unbalanced dataset\n",
    "df.Target.value_counts(normalize=True)"
   ]
  },
  {
   "cell_type": "markdown",
   "id": "895ed8d3",
   "metadata": {},
   "source": [
    "## So you see that there's a lot more ON TIME flights than DELAYED flights"
   ]
  },
  {
   "cell_type": "code",
   "execution_count": 9,
   "id": "ebc99e6f",
   "metadata": {},
   "outputs": [
    {
     "data": {
      "image/png": "[encoded data removed]",
      "text/plain": [
       "<Figure size 640x480 with 1 Axes>"
      ]
     },
     "metadata": {},
     "output_type": "display_data"
    }
   ],
   "source": [
    "df.Target.value_counts().plot(kind='bar',color=['salmon','lightblue']);"
   ]
  },
  {
   "cell_type": "code",
   "execution_count": 10,
   "id": "30e01b3c",
   "metadata": {},
   "outputs": [
    {
     "data": {
      "text/plain": [
       "array([  0,   1,   2,   3,   4,   5,   6,   7,   8,   9,  10,  11,  12,\n",
       "        13,  14,  15,  16,  17,  18,  19,  20,  21,  22,  23,  24,  25,\n",
       "        26,  27,  28,  29,  30,  31,  32,  33,  34,  35,  36,  37,  38,\n",
       "        39,  40,  41,  42,  43,  44,  45,  46,  47,  48,  49,  50,  51,\n",
       "        52,  53,  54,  55,  56,  57,  58,  59,  60,  61, 100, 101],\n",
       "      dtype=int64)"
      ]
     },
     "execution_count": 10,
     "metadata": {},
     "output_type": "execute_result"
    }
   ],
   "source": [
    "#just checking that we've used data from all 64 encoded airports\n",
    "\n",
    "arr = df.dest_airport_label.unique()\n",
    "sorted_arr = np.sort(arr)\n",
    "sorted_arr"
   ]
  },
  {
   "cell_type": "markdown",
   "id": "eb293ba2",
   "metadata": {},
   "source": [
    "##  DELETING unwanted columns"
   ]
  },
  {
   "cell_type": "code",
   "execution_count": 11,
   "id": "7999279b",
   "metadata": {},
   "outputs": [
    {
     "data": {
      "text/plain": [
       "Index(['flight_number', 'scheduled_elapsed_time_(minutes)',\n",
       "       'actual_elapsed_time_(minutes)', 'departure_delay_(minutes)',\n",
       "       'taxi-out_time_(minutes)', 'dest_airport_label', 'month', 'day',\n",
       "       'act_dep_time_hr', 'act_dep_time_min', 'sch_dep_time_hr',\n",
       "       'sch_dep_time_min', 'wo_time_hr', 'wo_time_min', 'Target'],\n",
       "      dtype='object')"
      ]
     },
     "execution_count": 11,
     "metadata": {},
     "output_type": "execute_result"
    }
   ],
   "source": [
    "df.columns"
   ]
  },
  {
   "cell_type": "code",
   "execution_count": 12,
   "id": "e5a90df7",
   "metadata": {},
   "outputs": [],
   "source": [
    "df = df.drop(['wo_time_hr', 'wo_time_min', \n",
    "             'departure_delay_(minutes)','act_dep_time_hr', 'act_dep_time_min', \n",
    "              'actual_elapsed_time_(minutes)', 'taxi-out_time_(minutes)'], axis=1)"
   ]
  },
  {
   "cell_type": "code",
   "execution_count": 13,
   "id": "c0447902",
   "metadata": {},
   "outputs": [
    {
     "data": {
      "text/plain": [
       "Index(['flight_number', 'scheduled_elapsed_time_(minutes)',\n",
       "       'dest_airport_label', 'month', 'day', 'sch_dep_time_hr',\n",
       "       'sch_dep_time_min', 'Target'],\n",
       "      dtype='object')"
      ]
     },
     "execution_count": 13,
     "metadata": {},
     "output_type": "execute_result"
    }
   ],
   "source": [
    "df.columns"
   ]
  },
  {
   "cell_type": "code",
   "execution_count": 14,
   "id": "568967e1",
   "metadata": {},
   "outputs": [
    {
     "data": {
      "image/png": "[encoded data removed]",
      "text/plain": [
       "<Figure size 640x480 with 1 Axes>"
      ]
     },
     "metadata": {},
     "output_type": "display_data"
    }
   ],
   "source": [
    "df.Target.value_counts().plot(kind='bar',color=['salmon','lightblue']);"
   ]
  },
  {
   "cell_type": "code",
   "execution_count": 15,
   "id": "cc5c3e79",
   "metadata": {},
   "outputs": [
    {
     "data": {
      "text/html": [
       "<div>\n",
       "<style scoped>\n",
       "    .dataframe tbody tr th:only-of-type {\n",
       "        vertical-align: middle;\n",
       "    }\n",
       "\n",
       "    .dataframe tbody tr th {\n",
       "        vertical-align: top;\n",
       "    }\n",
       "\n",
       "    .dataframe thead th {\n",
       "        text-align: right;\n",
       "    }\n",
       "</style>\n",
       "<table border=\"1\" class=\"dataframe\">\n",
       "  <thead>\n",
       "    <tr style=\"text-align: right;\">\n",
       "      <th></th>\n",
       "      <th>flight_number</th>\n",
       "      <th>scheduled_elapsed_time_(minutes)</th>\n",
       "      <th>dest_airport_label</th>\n",
       "      <th>month</th>\n",
       "      <th>day</th>\n",
       "      <th>sch_dep_time_hr</th>\n",
       "      <th>sch_dep_time_min</th>\n",
       "      <th>Target</th>\n",
       "    </tr>\n",
       "  </thead>\n",
       "  <tbody>\n",
       "    <tr>\n",
       "      <th>flight_number</th>\n",
       "      <td>1.000000</td>\n",
       "      <td>-0.045606</td>\n",
       "      <td>-0.060748</td>\n",
       "      <td>0.014730</td>\n",
       "      <td>0.007307</td>\n",
       "      <td>0.004764</td>\n",
       "      <td>-0.057796</td>\n",
       "      <td>-0.002362</td>\n",
       "    </tr>\n",
       "    <tr>\n",
       "      <th>scheduled_elapsed_time_(minutes)</th>\n",
       "      <td>-0.045606</td>\n",
       "      <td>1.000000</td>\n",
       "      <td>-0.175248</td>\n",
       "      <td>-0.002166</td>\n",
       "      <td>0.000688</td>\n",
       "      <td>-0.036578</td>\n",
       "      <td>-0.015485</td>\n",
       "      <td>0.019767</td>\n",
       "    </tr>\n",
       "    <tr>\n",
       "      <th>dest_airport_label</th>\n",
       "      <td>-0.060748</td>\n",
       "      <td>-0.175248</td>\n",
       "      <td>1.000000</td>\n",
       "      <td>-0.004445</td>\n",
       "      <td>-0.002233</td>\n",
       "      <td>0.074366</td>\n",
       "      <td>-0.013931</td>\n",
       "      <td>-0.000132</td>\n",
       "    </tr>\n",
       "    <tr>\n",
       "      <th>month</th>\n",
       "      <td>0.014730</td>\n",
       "      <td>-0.002166</td>\n",
       "      <td>-0.004445</td>\n",
       "      <td>1.000000</td>\n",
       "      <td>0.017713</td>\n",
       "      <td>-0.002151</td>\n",
       "      <td>-0.007696</td>\n",
       "      <td>0.003563</td>\n",
       "    </tr>\n",
       "    <tr>\n",
       "      <th>day</th>\n",
       "      <td>0.007307</td>\n",
       "      <td>0.000688</td>\n",
       "      <td>-0.002233</td>\n",
       "      <td>0.017713</td>\n",
       "      <td>1.000000</td>\n",
       "      <td>-0.005673</td>\n",
       "      <td>0.003120</td>\n",
       "      <td>0.002186</td>\n",
       "    </tr>\n",
       "    <tr>\n",
       "      <th>sch_dep_time_hr</th>\n",
       "      <td>0.004764</td>\n",
       "      <td>-0.036578</td>\n",
       "      <td>0.074366</td>\n",
       "      <td>-0.002151</td>\n",
       "      <td>-0.005673</td>\n",
       "      <td>1.000000</td>\n",
       "      <td>-0.034313</td>\n",
       "      <td>0.084906</td>\n",
       "    </tr>\n",
       "    <tr>\n",
       "      <th>sch_dep_time_min</th>\n",
       "      <td>-0.057796</td>\n",
       "      <td>-0.015485</td>\n",
       "      <td>-0.013931</td>\n",
       "      <td>-0.007696</td>\n",
       "      <td>0.003120</td>\n",
       "      <td>-0.034313</td>\n",
       "      <td>1.000000</td>\n",
       "      <td>0.004813</td>\n",
       "    </tr>\n",
       "    <tr>\n",
       "      <th>Target</th>\n",
       "      <td>-0.002362</td>\n",
       "      <td>0.019767</td>\n",
       "      <td>-0.000132</td>\n",
       "      <td>0.003563</td>\n",
       "      <td>0.002186</td>\n",
       "      <td>0.084906</td>\n",
       "      <td>0.004813</td>\n",
       "      <td>1.000000</td>\n",
       "    </tr>\n",
       "  </tbody>\n",
       "</table>\n",
       "</div>"
      ],
      "text/plain": [
       "                                  flight_number  \\\n",
       "flight_number                          1.000000   \n",
       "scheduled_elapsed_time_(minutes)      -0.045606   \n",
       "dest_airport_label                    -0.060748   \n",
       "month                                  0.014730   \n",
       "day                                    0.007307   \n",
       "sch_dep_time_hr                        0.004764   \n",
       "sch_dep_time_min                      -0.057796   \n",
       "Target                                -0.002362   \n",
       "\n",
       "                                  scheduled_elapsed_time_(minutes)  \\\n",
       "flight_number                                            -0.045606   \n",
       "scheduled_elapsed_time_(minutes)                          1.000000   \n",
       "dest_airport_label                                       -0.175248   \n",
       "month                                                    -0.002166   \n",
       "day                                                       0.000688   \n",
       "sch_dep_time_hr                                          -0.036578   \n",
       "sch_dep_time_min                                         -0.015485   \n",
       "Target                                                    0.019767   \n",
       "\n",
       "                                  dest_airport_label     month       day  \\\n",
       "flight_number                              -0.060748  0.014730  0.007307   \n",
       "scheduled_elapsed_time_(minutes)           -0.175248 -0.002166  0.000688   \n",
       "dest_airport_label                          1.000000 -0.004445 -0.002233   \n",
       "month                                      -0.004445  1.000000  0.017713   \n",
       "day                                        -0.002233  0.017713  1.000000   \n",
       "sch_dep_time_hr                             0.074366 -0.002151 -0.005673   \n",
       "sch_dep_time_min                           -0.013931 -0.007696  0.003120   \n",
       "Target                                     -0.000132  0.003563  0.002186   \n",
       "\n",
       "                                  sch_dep_time_hr  sch_dep_time_min    Target  \n",
       "flight_number                            0.004764         -0.057796 -0.002362  \n",
       "scheduled_elapsed_time_(minutes)        -0.036578         -0.015485  0.019767  \n",
       "dest_airport_label                       0.074366         -0.013931 -0.000132  \n",
       "month                                   -0.002151         -0.007696  0.003563  \n",
       "day                                     -0.005673          0.003120  0.002186  \n",
       "sch_dep_time_hr                          1.000000         -0.034313  0.084906  \n",
       "sch_dep_time_min                        -0.034313          1.000000  0.004813  \n",
       "Target                                   0.084906          0.004813  1.000000  "
      ]
     },
     "execution_count": 15,
     "metadata": {},
     "output_type": "execute_result"
    }
   ],
   "source": [
    "#let's find the correlation between our independent variables\n",
    "\n",
    "corr_matrix = df.corr()\n",
    "corr_matrix"
   ]
  },
  {
   "cell_type": "code",
   "execution_count": 16,
   "id": "26ebf7e2",
   "metadata": {},
   "outputs": [
    {
     "data": {
      "image/png": "[encoded data removed]",
      "text/plain": [
       "<Figure size 1500x1000 with 2 Axes>"
      ]
     },
     "metadata": {},
     "output_type": "display_data"
    }
   ],
   "source": [
    "#And to make it visual:\n",
    "corr_matrix = df.corr()\n",
    "plt.figure(figsize=(15,10))\n",
    "sns.heatmap(corr_matrix, annot=True,linewidths=0.5,\n",
    "           fmt=\".2f\", cmap=\"YlGnBu\");"
   ]
  },
  {
   "cell_type": "markdown",
   "id": "0c170a79",
   "metadata": {},
   "source": [
    "## Now let's start with modelling"
   ]
  },
  {
   "cell_type": "code",
   "execution_count": 17,
   "id": "e05ae0ec",
   "metadata": {},
   "outputs": [],
   "source": [
    "#let's split our data \n",
    "\n",
    "X = df.drop('Target', axis=1)\n",
    "\n",
    "y = df.Target.values\n",
    "\n",
    "#Let's see our new variables"
   ]
  },
  {
   "cell_type": "code",
   "execution_count": 18,
   "id": "222d9083",
   "metadata": {},
   "outputs": [
    {
     "name": "stdout",
     "output_type": "stream",
     "text": [
      "Independent variables: \n"
     ]
    },
    {
     "data": {
      "text/html": [
       "<div>\n",
       "<style scoped>\n",
       "    .dataframe tbody tr th:only-of-type {\n",
       "        vertical-align: middle;\n",
       "    }\n",
       "\n",
       "    .dataframe tbody tr th {\n",
       "        vertical-align: top;\n",
       "    }\n",
       "\n",
       "    .dataframe thead th {\n",
       "        text-align: right;\n",
       "    }\n",
       "</style>\n",
       "<table border=\"1\" class=\"dataframe\">\n",
       "  <thead>\n",
       "    <tr style=\"text-align: right;\">\n",
       "      <th></th>\n",
       "      <th>flight_number</th>\n",
       "      <th>scheduled_elapsed_time_(minutes)</th>\n",
       "      <th>dest_airport_label</th>\n",
       "      <th>month</th>\n",
       "      <th>day</th>\n",
       "      <th>sch_dep_time_hr</th>\n",
       "      <th>sch_dep_time_min</th>\n",
       "    </tr>\n",
       "  </thead>\n",
       "  <tbody>\n",
       "    <tr>\n",
       "      <th>0</th>\n",
       "      <td>242</td>\n",
       "      <td>156</td>\n",
       "      <td>14</td>\n",
       "      <td>1</td>\n",
       "      <td>1</td>\n",
       "      <td>18</td>\n",
       "      <td>23</td>\n",
       "    </tr>\n",
       "    <tr>\n",
       "      <th>1</th>\n",
       "      <td>401</td>\n",
       "      <td>128</td>\n",
       "      <td>45</td>\n",
       "      <td>1</td>\n",
       "      <td>1</td>\n",
       "      <td>15</td>\n",
       "      <td>22</td>\n",
       "    </tr>\n",
       "    <tr>\n",
       "      <th>2</th>\n",
       "      <td>426</td>\n",
       "      <td>81</td>\n",
       "      <td>8</td>\n",
       "      <td>1</td>\n",
       "      <td>1</td>\n",
       "      <td>10</td>\n",
       "      <td>56</td>\n",
       "    </tr>\n",
       "    <tr>\n",
       "      <th>3</th>\n",
       "      <td>440</td>\n",
       "      <td>262</td>\n",
       "      <td>100</td>\n",
       "      <td>1</td>\n",
       "      <td>1</td>\n",
       "      <td>17</td>\n",
       "      <td>40</td>\n",
       "    </tr>\n",
       "    <tr>\n",
       "      <th>4</th>\n",
       "      <td>448</td>\n",
       "      <td>146</td>\n",
       "      <td>14</td>\n",
       "      <td>1</td>\n",
       "      <td>1</td>\n",
       "      <td>21</td>\n",
       "      <td>46</td>\n",
       "    </tr>\n",
       "  </tbody>\n",
       "</table>\n",
       "</div>"
      ],
      "text/plain": [
       "   flight_number  scheduled_elapsed_time_(minutes)  dest_airport_label  month  \\\n",
       "0            242                               156                  14      1   \n",
       "1            401                               128                  45      1   \n",
       "2            426                                81                   8      1   \n",
       "3            440                               262                 100      1   \n",
       "4            448                               146                  14      1   \n",
       "\n",
       "   day  sch_dep_time_hr  sch_dep_time_min  \n",
       "0    1               18                23  \n",
       "1    1               15                22  \n",
       "2    1               10                56  \n",
       "3    1               17                40  \n",
       "4    1               21                46  "
      ]
     },
     "execution_count": 18,
     "metadata": {},
     "output_type": "execute_result"
    }
   ],
   "source": [
    "print('Independent variables: ')\n",
    "X.head()"
   ]
  },
  {
   "cell_type": "code",
   "execution_count": 19,
   "id": "b3163c3c",
   "metadata": {},
   "outputs": [
    {
     "name": "stdout",
     "output_type": "stream",
     "text": [
      "Target: \n"
     ]
    },
    {
     "data": {
      "text/plain": [
       "array([1, 0, 0, ..., 0, 0, 0], dtype=int64)"
      ]
     },
     "execution_count": 19,
     "metadata": {},
     "output_type": "execute_result"
    }
   ],
   "source": [
    "print('Target: ')\n",
    "y"
   ]
  },
  {
   "cell_type": "code",
   "execution_count": 20,
   "id": "7123f253",
   "metadata": {},
   "outputs": [],
   "source": [
    "#Let's now split the data into train and test split\n",
    "\n",
    "np.random.seed(40)\n",
    "\n",
    "X_train, X_test, y_train, y_test = train_test_split(X, y, test_size=0.2)"
   ]
  },
  {
   "cell_type": "markdown",
   "id": "919e04a8",
   "metadata": {},
   "source": [
    "## Training data"
   ]
  },
  {
   "cell_type": "code",
   "execution_count": 21,
   "id": "4b53c0cf",
   "metadata": {},
   "outputs": [
    {
     "data": {
      "text/html": [
       "<div>\n",
       "<style scoped>\n",
       "    .dataframe tbody tr th:only-of-type {\n",
       "        vertical-align: middle;\n",
       "    }\n",
       "\n",
       "    .dataframe tbody tr th {\n",
       "        vertical-align: top;\n",
       "    }\n",
       "\n",
       "    .dataframe thead th {\n",
       "        text-align: right;\n",
       "    }\n",
       "</style>\n",
       "<table border=\"1\" class=\"dataframe\">\n",
       "  <thead>\n",
       "    <tr style=\"text-align: right;\">\n",
       "      <th></th>\n",
       "      <th>flight_number</th>\n",
       "      <th>scheduled_elapsed_time_(minutes)</th>\n",
       "      <th>dest_airport_label</th>\n",
       "      <th>month</th>\n",
       "      <th>day</th>\n",
       "      <th>sch_dep_time_hr</th>\n",
       "      <th>sch_dep_time_min</th>\n",
       "    </tr>\n",
       "  </thead>\n",
       "  <tbody>\n",
       "    <tr>\n",
       "      <th>41570</th>\n",
       "      <td>1437</td>\n",
       "      <td>164</td>\n",
       "      <td>44</td>\n",
       "      <td>6</td>\n",
       "      <td>30</td>\n",
       "      <td>9</td>\n",
       "      <td>55</td>\n",
       "    </tr>\n",
       "    <tr>\n",
       "      <th>17109</th>\n",
       "      <td>2651</td>\n",
       "      <td>283</td>\n",
       "      <td>26</td>\n",
       "      <td>1</td>\n",
       "      <td>28</td>\n",
       "      <td>0</td>\n",
       "      <td>20</td>\n",
       "    </tr>\n",
       "    <tr>\n",
       "      <th>11057</th>\n",
       "      <td>2778</td>\n",
       "      <td>156</td>\n",
       "      <td>14</td>\n",
       "      <td>11</td>\n",
       "      <td>11</td>\n",
       "      <td>9</td>\n",
       "      <td>57</td>\n",
       "    </tr>\n",
       "    <tr>\n",
       "      <th>35113</th>\n",
       "      <td>2856</td>\n",
       "      <td>157</td>\n",
       "      <td>24</td>\n",
       "      <td>5</td>\n",
       "      <td>20</td>\n",
       "      <td>15</td>\n",
       "      <td>20</td>\n",
       "    </tr>\n",
       "    <tr>\n",
       "      <th>3288</th>\n",
       "      <td>2778</td>\n",
       "      <td>154</td>\n",
       "      <td>14</td>\n",
       "      <td>4</td>\n",
       "      <td>13</td>\n",
       "      <td>10</td>\n",
       "      <td>6</td>\n",
       "    </tr>\n",
       "  </tbody>\n",
       "</table>\n",
       "</div>"
      ],
      "text/plain": [
       "       flight_number  scheduled_elapsed_time_(minutes)  dest_airport_label  \\\n",
       "41570           1437                               164                  44   \n",
       "17109           2651                               283                  26   \n",
       "11057           2778                               156                  14   \n",
       "35113           2856                               157                  24   \n",
       "3288            2778                               154                  14   \n",
       "\n",
       "       month  day  sch_dep_time_hr  sch_dep_time_min  \n",
       "41570      6   30                9                55  \n",
       "17109      1   28                0                20  \n",
       "11057     11   11                9                57  \n",
       "35113      5   20               15                20  \n",
       "3288       4   13               10                 6  "
      ]
     },
     "execution_count": 21,
     "metadata": {},
     "output_type": "execute_result"
    }
   ],
   "source": [
    "X_train.head()"
   ]
  },
  {
   "cell_type": "code",
   "execution_count": 22,
   "id": "0003baa2",
   "metadata": {},
   "outputs": [
    {
     "data": {
      "text/plain": [
       "(array([0, 0, 0, ..., 0, 0, 0], dtype=int64), 56028)"
      ]
     },
     "execution_count": 22,
     "metadata": {},
     "output_type": "execute_result"
    }
   ],
   "source": [
    "y_train, len(y_train) #so we're training our model on 56028 samples"
   ]
  },
  {
   "cell_type": "code",
   "execution_count": 23,
   "id": "2a292b1f",
   "metadata": {},
   "outputs": [],
   "source": [
    "count_zeros = np.sum(y_train == 0)\n",
    "count_ones = np.sum(y_train == 1)"
   ]
  },
  {
   "cell_type": "code",
   "execution_count": 24,
   "id": "827b8e2e",
   "metadata": {},
   "outputs": [
    {
     "data": {
      "text/plain": [
       "9371"
      ]
     },
     "execution_count": 24,
     "metadata": {},
     "output_type": "execute_result"
    }
   ],
   "source": [
    "count_ones"
   ]
  },
  {
   "cell_type": "code",
   "execution_count": 25,
   "id": "f9b3e43b",
   "metadata": {},
   "outputs": [
    {
     "data": {
      "text/plain": [
       "46657"
      ]
     },
     "execution_count": 25,
     "metadata": {},
     "output_type": "execute_result"
    }
   ],
   "source": [
    "count_zeros"
   ]
  },
  {
   "cell_type": "markdown",
   "id": "213f4954",
   "metadata": {},
   "source": [
    "## Testing data"
   ]
  },
  {
   "cell_type": "code",
   "execution_count": 26,
   "id": "9241cc2b",
   "metadata": {},
   "outputs": [
    {
     "data": {
      "text/html": [
       "<div>\n",
       "<style scoped>\n",
       "    .dataframe tbody tr th:only-of-type {\n",
       "        vertical-align: middle;\n",
       "    }\n",
       "\n",
       "    .dataframe tbody tr th {\n",
       "        vertical-align: top;\n",
       "    }\n",
       "\n",
       "    .dataframe thead th {\n",
       "        text-align: right;\n",
       "    }\n",
       "</style>\n",
       "<table border=\"1\" class=\"dataframe\">\n",
       "  <thead>\n",
       "    <tr style=\"text-align: right;\">\n",
       "      <th></th>\n",
       "      <th>flight_number</th>\n",
       "      <th>scheduled_elapsed_time_(minutes)</th>\n",
       "      <th>dest_airport_label</th>\n",
       "      <th>month</th>\n",
       "      <th>day</th>\n",
       "      <th>sch_dep_time_hr</th>\n",
       "      <th>sch_dep_time_min</th>\n",
       "    </tr>\n",
       "  </thead>\n",
       "  <tbody>\n",
       "    <tr>\n",
       "      <th>48346</th>\n",
       "      <td>2100</td>\n",
       "      <td>240</td>\n",
       "      <td>16</td>\n",
       "      <td>12</td>\n",
       "      <td>8</td>\n",
       "      <td>9</td>\n",
       "      <td>8</td>\n",
       "    </tr>\n",
       "    <tr>\n",
       "      <th>52623</th>\n",
       "      <td>2490</td>\n",
       "      <td>77</td>\n",
       "      <td>58</td>\n",
       "      <td>10</td>\n",
       "      <td>9</td>\n",
       "      <td>17</td>\n",
       "      <td>0</td>\n",
       "    </tr>\n",
       "    <tr>\n",
       "      <th>47549</th>\n",
       "      <td>1765</td>\n",
       "      <td>151</td>\n",
       "      <td>14</td>\n",
       "      <td>7</td>\n",
       "      <td>8</td>\n",
       "      <td>7</td>\n",
       "      <td>25</td>\n",
       "    </tr>\n",
       "    <tr>\n",
       "      <th>40691</th>\n",
       "      <td>567</td>\n",
       "      <td>245</td>\n",
       "      <td>8</td>\n",
       "      <td>6</td>\n",
       "      <td>25</td>\n",
       "      <td>6</td>\n",
       "      <td>21</td>\n",
       "    </tr>\n",
       "    <tr>\n",
       "      <th>45865</th>\n",
       "      <td>470</td>\n",
       "      <td>105</td>\n",
       "      <td>55</td>\n",
       "      <td>7</td>\n",
       "      <td>28</td>\n",
       "      <td>13</td>\n",
       "      <td>49</td>\n",
       "    </tr>\n",
       "  </tbody>\n",
       "</table>\n",
       "</div>"
      ],
      "text/plain": [
       "       flight_number  scheduled_elapsed_time_(minutes)  dest_airport_label  \\\n",
       "48346           2100                               240                  16   \n",
       "52623           2490                                77                  58   \n",
       "47549           1765                               151                  14   \n",
       "40691            567                               245                   8   \n",
       "45865            470                               105                  55   \n",
       "\n",
       "       month  day  sch_dep_time_hr  sch_dep_time_min  \n",
       "48346     12    8                9                 8  \n",
       "52623     10    9               17                 0  \n",
       "47549      7    8                7                25  \n",
       "40691      6   25                6                21  \n",
       "45865      7   28               13                49  "
      ]
     },
     "execution_count": 26,
     "metadata": {},
     "output_type": "execute_result"
    }
   ],
   "source": [
    "X_test.head()"
   ]
  },
  {
   "cell_type": "code",
   "execution_count": 27,
   "id": "886fd895",
   "metadata": {},
   "outputs": [
    {
     "data": {
      "text/plain": [
       "(array([0, 0, 0, ..., 0, 0, 0], dtype=int64), 14008)"
      ]
     },
     "execution_count": 27,
     "metadata": {},
     "output_type": "execute_result"
    }
   ],
   "source": [
    "y_test, len(y_test) #so we'll use 14008 samples to test our model on"
   ]
  },
  {
   "cell_type": "code",
   "execution_count": 28,
   "id": "8ffc5272",
   "metadata": {},
   "outputs": [],
   "source": [
    "count_zeros = np.sum(y_test == 0)\n",
    "count_ones = np.sum(y_test == 1)"
   ]
  },
  {
   "cell_type": "code",
   "execution_count": 29,
   "id": "cc96ffae",
   "metadata": {},
   "outputs": [
    {
     "data": {
      "text/plain": [
       "2367"
      ]
     },
     "execution_count": 29,
     "metadata": {},
     "output_type": "execute_result"
    }
   ],
   "source": [
    "count_ones"
   ]
  },
  {
   "cell_type": "code",
   "execution_count": 30,
   "id": "78b97c44",
   "metadata": {},
   "outputs": [
    {
     "data": {
      "text/plain": [
       "11641"
      ]
     },
     "execution_count": 30,
     "metadata": {},
     "output_type": "execute_result"
    }
   ],
   "source": [
    "count_zeros"
   ]
  },
  {
   "cell_type": "markdown",
   "id": "5afd1a40",
   "metadata": {},
   "source": [
    "## Creating models"
   ]
  },
  {
   "cell_type": "markdown",
   "id": "18098746",
   "metadata": {},
   "source": [
    "All of the algorithms in the Scikit-Learn library use the same functions, \n",
    "for training a model, `model.fit(X_train, y_train)` and for scoring a \n",
    "model `model.score(X_test, y_test)`. `score()` \n",
    "returns the ratio of correct predictions (1.0 = 100% correct)."
   ]
  },
  {
   "cell_type": "markdown",
   "id": "4f93e73f",
   "metadata": {},
   "source": [
    "## KNN classifier"
   ]
  },
  {
   "cell_type": "code",
   "execution_count": 31,
   "id": "2c71ff41",
   "metadata": {},
   "outputs": [
    {
     "name": "stdout",
     "output_type": "stream",
     "text": [
      "0.8060394060536836\n",
      "Flight is predicted to be accurately delayed or on time with accuracy: 80.60%\n"
     ]
    }
   ],
   "source": [
    "np.random.seed(42)\n",
    "knn = KNeighborsClassifier()\n",
    "knn.fit(X_train,y_train)\n",
    "\n",
    "knn_score = knn.score(X_test,y_test)\n",
    "print(knn_score)\n",
    "print(f\"Flight is predicted to be accurately delayed or on time with accuracy: {knn_score * 100:.2f}%\")"
   ]
  },
  {
   "cell_type": "code",
   "execution_count": 32,
   "id": "eef9f479",
   "metadata": {},
   "outputs": [
    {
     "data": {
      "text/plain": [
       "array([[11068,   573],\n",
       "       [ 2144,   223]], dtype=int64)"
      ]
     },
     "execution_count": 32,
     "metadata": {},
     "output_type": "execute_result"
    }
   ],
   "source": [
    "y_preds = knn.predict(X_test)\n",
    "cm = confusion_matrix(y_test, y_preds)\n",
    "cm"
   ]
  },
  {
   "cell_type": "code",
   "execution_count": 33,
   "id": "205af8a3",
   "metadata": {},
   "outputs": [
    {
     "data": {
      "image/png": "[encoded data removed]",
      "text/plain": [
       "<Figure size 300x300 with 1 Axes>"
      ]
     },
     "metadata": {},
     "output_type": "display_data"
    }
   ],
   "source": [
    "sns.set(font_scale=1)\n",
    "def plot_conf_mat(y_test,y_preds):\n",
    "    \"\"\"\n",
    "    plots a confusion matrix\n",
    "    \"\"\"\n",
    "    fig, ax = plt.subplots(figsize=(3,3))\n",
    "    ax = sns.heatmap(cm,\n",
    "                    annot = True, fmt ='d', cbar = False)\n",
    "    plt.xlabel(\"true label\")\n",
    "    plt.ylabel(\"predicted label\")\n",
    "    \n",
    "plot_conf_mat(y_test, y_preds)"
   ]
  },
  {
   "cell_type": "markdown",
   "id": "50beefed",
   "metadata": {},
   "source": [
    "### Let's get down to tuning"
   ]
  },
  {
   "cell_type": "markdown",
   "id": "e6ef9ac0",
   "metadata": {},
   "source": [
    "Let's try and adjust the number of neigbours in the KNN algorithm. The default value is `n_neigbours = 5`"
   ]
  },
  {
   "cell_type": "code",
   "execution_count": 34,
   "id": "fdf0258e",
   "metadata": {},
   "outputs": [],
   "source": [
    "#create a list of train scores\n",
    "\n",
    "train_scores = []\n",
    "\n",
    "#create a list of test scores\n",
    "test_scores = []\n",
    "\n",
    "#create a list of different values for n_neighbors\n",
    "neighbors = range(1,21) #1 to 20\n",
    "\n",
    "#setup algorithm\n",
    "knn = KNeighborsClassifier()\n",
    "\n",
    "#loop through different neighbors values\n",
    "for i in neighbors:\n",
    "    knn.set_params(n_neighbors = i)\n",
    "    \n",
    "    #fit the algorithm\n",
    "    knn.fit(X_train, y_train)\n",
    "    \n",
    "    #update the training scores\n",
    "    train_scores.append(knn.score(X_train, y_train))\n",
    "    \n",
    "    #update the test scores\n",
    "    test_scores.append(knn.score(X_test,y_test))"
   ]
  },
  {
   "cell_type": "code",
   "execution_count": 35,
   "id": "d7751769",
   "metadata": {},
   "outputs": [
    {
     "data": {
      "text/plain": [
       "[1.0,\n",
       " 0.8694224316413222,\n",
       " 0.8710644677661169,\n",
       " 0.8487363461126579,\n",
       " 0.8496466052687942,\n",
       " 0.8414185764260727,\n",
       " 0.8420789605197402,\n",
       " 0.8384200756764475,\n",
       " 0.8389733704576283,\n",
       " 0.8372420932390947,\n",
       " 0.8375455129578068,\n",
       " 0.8358677803955166,\n",
       " 0.8361355036767331,\n",
       " 0.8350646105518669,\n",
       " 0.835136003426858,\n",
       " 0.8344756193331906,\n",
       " 0.8347790390519026,\n",
       " 0.8345291639894339,\n",
       " 0.8345291639894339,\n",
       " 0.8341186549582351]"
      ]
     },
     "execution_count": 35,
     "metadata": {},
     "output_type": "execute_result"
    }
   ],
   "source": [
    "train_scores"
   ]
  },
  {
   "cell_type": "code",
   "execution_count": 36,
   "id": "1b6ee74c",
   "metadata": {},
   "outputs": [
    {
     "data": {
      "text/plain": [
       "[0.7395059965733867,\n",
       " 0.8158195316961736,\n",
       " 0.7928326670474015,\n",
       " 0.8196030839520274,\n",
       " 0.8060394060536836,\n",
       " 0.8217447173043975,\n",
       " 0.815676756139349,\n",
       " 0.8259565962307253,\n",
       " 0.8216019417475728,\n",
       " 0.8278840662478584,\n",
       " 0.8255996573386636,\n",
       " 0.8285979440319817,\n",
       " 0.8268846373500857,\n",
       " 0.8290262707024557,\n",
       " 0.8274557395773844,\n",
       " 0.828669331810394,\n",
       " 0.8283837806967447,\n",
       " 0.8292404340376928,\n",
       " 0.8290262707024557,\n",
       " 0.8304540262707024]"
      ]
     },
     "execution_count": 36,
     "metadata": {},
     "output_type": "execute_result"
    }
   ],
   "source": [
    "test_scores"
   ]
  },
  {
   "cell_type": "code",
   "execution_count": 37,
   "id": "81524a41",
   "metadata": {},
   "outputs": [
    {
     "name": "stdout",
     "output_type": "stream",
     "text": [
      "Maximum KNN score on the test data: 83.05%\n"
     ]
    },
    {
     "data": {
      "image/png": "[encoded data removed]",
      "text/plain": [
       "<Figure size 640x480 with 1 Axes>"
      ]
     },
     "metadata": {},
     "output_type": "display_data"
    }
   ],
   "source": [
    "plt.plot(neighbors, train_scores, label='Train score')\n",
    "plt.plot(neighbors, test_scores, label='Test score')\n",
    "plt.axvline(x=20, color='purple', linestyle='--', label='best')\n",
    "plt.xticks(np.arange(1,21,1))\n",
    "plt.xlabel('Number of neighbors')\n",
    "plt.ylabel('Model score')\n",
    "plt.legend()\n",
    "\n",
    "print(f\"Maximum KNN score on the test data: {max(test_scores)*100:.2f}%\")"
   ]
  },
  {
   "cell_type": "markdown",
   "id": "57a21535",
   "metadata": {},
   "source": [
    "### Tuned model performs a little bit better"
   ]
  },
  {
   "cell_type": "code",
   "execution_count": 38,
   "id": "0b529c30",
   "metadata": {},
   "outputs": [
    {
     "name": "stdout",
     "output_type": "stream",
     "text": [
      "0.8304540262707024\n",
      "Flight is predicted to be accurately delayed or on time with accuracy: 83.05%\n"
     ]
    }
   ],
   "source": [
    "np.random.seed(42)\n",
    "knn = KNeighborsClassifier(n_neighbors=20)\n",
    "knn.fit(X_train,y_train)\n",
    "\n",
    "knn_score = knn.score(X_test,y_test)\n",
    "print(knn_score)\n",
    "print(f\"Flight is predicted to be accurately delayed or on time with accuracy: {knn_score * 100:.2f}%\")"
   ]
  },
  {
   "cell_type": "code",
   "execution_count": 39,
   "id": "a6e1c273",
   "metadata": {},
   "outputs": [
    {
     "data": {
      "text/plain": [
       "array([[11589,    52],\n",
       "       [ 2323,    44]], dtype=int64)"
      ]
     },
     "execution_count": 39,
     "metadata": {},
     "output_type": "execute_result"
    }
   ],
   "source": [
    "Y_preds = knn.predict(X_test)\n",
    "CM = confusion_matrix(y_test, Y_preds)\n",
    "CM"
   ]
  },
  {
   "cell_type": "code",
   "execution_count": 40,
   "id": "3d854fca",
   "metadata": {},
   "outputs": [
    {
     "data": {
      "image/png": "[encoded data removed]",
      "text/plain": [
       "<Figure size 300x300 with 1 Axes>"
      ]
     },
     "metadata": {},
     "output_type": "display_data"
    }
   ],
   "source": [
    "sns.set(font_scale=1)\n",
    "def plot_conf_mat(y_test,y_preds):\n",
    "    \"\"\"\n",
    "    plots a confusion matrix\n",
    "    \"\"\"\n",
    "    fig, ax = plt.subplots(figsize=(3,3))\n",
    "    ax = sns.heatmap(CM,\n",
    "                    annot = True, fmt ='d', cbar = False)\n",
    "    plt.xlabel(\"true label\")\n",
    "    plt.ylabel(\"predicted label\")\n",
    "    \n",
    "plot_conf_mat(y_test, Y_preds)"
   ]
  },
  {
   "cell_type": "code",
   "execution_count": null,
   "id": "14d23acf",
   "metadata": {},
   "outputs": [],
   "source": []
  },
  {
   "cell_type": "markdown",
   "id": "675b71c3",
   "metadata": {},
   "source": [
    "## SVC classifier"
   ]
  },
  {
   "cell_type": "code",
   "execution_count": 41,
   "id": "68cbef35",
   "metadata": {},
   "outputs": [
    {
     "name": "stdout",
     "output_type": "stream",
     "text": [
      "0.8310251284980011\n",
      "Flight is predicted to be accurately delayed or on time with accuracy: 83.10%\n"
     ]
    }
   ],
   "source": [
    "svc = svm.SVC()\n",
    "\n",
    "svc.fit(X_train,y_train)\n",
    "\n",
    "svc_score = svc.score(X_test,y_test)\n",
    "print(svc_score)\n",
    "print(f\"Flight is predicted to be accurately delayed or on time with accuracy: {svc_score * 100:.2f}%\")"
   ]
  },
  {
   "cell_type": "code",
   "execution_count": 42,
   "id": "5b2505e1",
   "metadata": {},
   "outputs": [
    {
     "data": {
      "text/plain": [
       "array([[11641,     0],\n",
       "       [ 2367,     0]], dtype=int64)"
      ]
     },
     "execution_count": 42,
     "metadata": {},
     "output_type": "execute_result"
    }
   ],
   "source": [
    "predictions = svc.predict(X_test)\n",
    "cmx = confusion_matrix(y_test, predictions)\n",
    "cmx"
   ]
  },
  {
   "cell_type": "code",
   "execution_count": 43,
   "id": "b845b145",
   "metadata": {},
   "outputs": [
    {
     "data": {
      "image/png": "[encoded data removed]",
      "text/plain": [
       "<Figure size 300x300 with 1 Axes>"
      ]
     },
     "metadata": {},
     "output_type": "display_data"
    }
   ],
   "source": [
    "sns.set(font_scale=1)\n",
    "def plot_conf_mat(y_test,y_preds):\n",
    "    \"\"\"\n",
    "    plots a confusion matrix\n",
    "    \"\"\"\n",
    "    fig, ax = plt.subplots(figsize=(3,3))\n",
    "    ax = sns.heatmap(cmx,\n",
    "                    annot = True, fmt ='d', cbar = False)\n",
    "    plt.xlabel(\"true label\")\n",
    "    plt.ylabel(\"predicted label\")\n",
    "    \n",
    "plot_conf_mat(y_test, y_preds=predictions)"
   ]
  },
  {
   "cell_type": "markdown",
   "id": "c2518c92",
   "metadata": {},
   "source": [
    "## Random Forest Classifier"
   ]
  },
  {
   "cell_type": "code",
   "execution_count": 44,
   "id": "170a4fb0",
   "metadata": {},
   "outputs": [
    {
     "name": "stdout",
     "output_type": "stream",
     "text": [
      "0.7771987435751\n",
      "Flight is predicted to be accurately delayed or on time with accuracy: 77.72%\n"
     ]
    }
   ],
   "source": [
    "np.random.seed(17)\n",
    "clf = RandomForestClassifier()\n",
    "clf.fit(X_train,y_train)\n",
    "clf_score = clf.score(X_test,y_test)\n",
    "\n",
    "print(clf_score)\n",
    "print(f\"Flight is predicted to be accurately delayed or on time with accuracy: {clf_score * 100:.2f}%\")"
   ]
  },
  {
   "cell_type": "code",
   "execution_count": 45,
   "id": "2bdd613c",
   "metadata": {},
   "outputs": [
    {
     "data": {
      "text/plain": [
       "array([[10528,  1113],\n",
       "       [ 2008,   359]], dtype=int64)"
      ]
     },
     "execution_count": 45,
     "metadata": {},
     "output_type": "execute_result"
    }
   ],
   "source": [
    "Predictions = clf.predict(X_test)\n",
    "Cmx = confusion_matrix(y_test, Predictions)\n",
    "Cmx"
   ]
  },
  {
   "cell_type": "code",
   "execution_count": 46,
   "id": "20c2529a",
   "metadata": {},
   "outputs": [
    {
     "data": {
      "image/png": "[encoded data removed]",
      "text/plain": [
       "<Figure size 300x300 with 1 Axes>"
      ]
     },
     "metadata": {},
     "output_type": "display_data"
    }
   ],
   "source": [
    "sns.set(font_scale=1)\n",
    "def plot_conf_mat(y_test,y_preds):\n",
    "    \"\"\"\n",
    "    plots a confusion matrix\n",
    "    \"\"\"\n",
    "    fig, ax = plt.subplots(figsize=(3,3))\n",
    "    ax = sns.heatmap(Cmx,\n",
    "                    annot = True, fmt ='d', cbar = False)\n",
    "    plt.xlabel(\"true label\")\n",
    "    plt.ylabel(\"predicted label\")\n",
    "    \n",
    "plot_conf_mat(y_test, y_preds=Predictions)"
   ]
  },
  {
   "cell_type": "markdown",
   "id": "3270b06c",
   "metadata": {},
   "source": [
    "## ROC curves"
   ]
  },
  {
   "cell_type": "code",
   "execution_count": 47,
   "id": "10f84e10",
   "metadata": {},
   "outputs": [
    {
     "data": {
      "image/png": "[encoded data removed]",
      "text/plain": [
       "<Figure size 800x600 with 1 Axes>"
      ]
     },
     "metadata": {},
     "output_type": "display_data"
    }
   ],
   "source": [
    "#get the probabilities for positive class for knn and svc and random forest\n",
    "y_probs_knn = knn.predict_proba(X_test)[:, 1]\n",
    "y_probs_svc = svc.decision_function(X_test)\n",
    "y_probs_clf = clf.predict_proba(X_test)[:, 1]\n",
    "\n",
    "#compute roc curve and roc area for knn\n",
    "fpr_knn, tpr_knn, thresholds = roc_curve(y_test, y_probs_knn)\n",
    "roc_auc_knn = auc(fpr_knn, tpr_knn)\n",
    "\n",
    "# Compute ROC curve and ROC area for SVC\n",
    "fpr_svc, tpr_svc, thresholds = roc_curve(y_test, y_probs_svc)\n",
    "roc_auc_svc = auc(fpr_svc, tpr_svc)\n",
    "\n",
    "# Compute ROC curve and ROC area for Random forest\n",
    "fpr_clf, tpr_clf, thresholds = roc_curve(y_test, y_probs_clf)\n",
    "roc_auc_clf = auc(fpr_clf, tpr_clf)\n",
    "\n",
    "fig, ax = plt.subplots(figsize=(8,6))\n",
    "RocCurveDisplay(fpr=fpr_knn, tpr=tpr_knn, roc_auc=roc_auc_knn, estimator_name = \"KNN\").plot(ax=ax)\n",
    "RocCurveDisplay(fpr=fpr_svc, tpr=tpr_svc, roc_auc=roc_auc_svc, estimator_name = \"SVC\").plot(ax=ax)\n",
    "RocCurveDisplay(fpr=fpr_clf, tpr=tpr_clf, roc_auc=roc_auc_clf, estimator_name = \"Random Forest\").plot(ax=ax)\n",
    "plt.plot([0,1],[0,1], color='darkblue', linestyle='--',label='baseline')\n",
    "\n",
    "# Add labels and legend\n",
    "plt.title('Receiver Operating Characteristic (ROC) Curve')\n",
    "plt.xlabel('False Positive Rate')\n",
    "plt.ylabel('True Positive Rate')\n",
    "plt.legend(loc='lower right')\n",
    "\n",
    "plt.show()"
   ]
  },
  {
   "cell_type": "code",
   "execution_count": null,
   "id": "fc157942",
   "metadata": {},
   "outputs": [],
   "source": []
  },
  {
   "cell_type": "markdown",
   "id": "e6a94e02",
   "metadata": {},
   "source": [
    "## Classification report"
   ]
  },
  {
   "cell_type": "code",
   "execution_count": 48,
   "id": "8364818f",
   "metadata": {},
   "outputs": [],
   "source": [
    "#KNN classifier \n",
    "CR_knn = classification_report(y_test, Y_preds)\n",
    "\n",
    "#SVC classifier\n",
    "CR_svc = classification_report(y_test, predictions)\n",
    "\n",
    "#Random Forest classifier\n",
    "CR_clf = classification_report(y_test, Predictions)"
   ]
  },
  {
   "cell_type": "markdown",
   "id": "807dbaa7",
   "metadata": {},
   "source": [
    "### Classification report for KNN"
   ]
  },
  {
   "cell_type": "markdown",
   "id": "30a7cc81",
   "metadata": {},
   "source": [
    "#### Legend: \n",
    "    ***Precision*** - Indicates the proportion of positive identifications (model predicted class 1) which were actually correct. A model which produces no false positives has a precision of 1.0.\n",
    "    ***Recall*** - Indicates the proportion of actual positives which were correctly classified. A model which produces no false negatives has a recall of 1.0.\n",
    "    ***F1 score*** - A combination of precision and recall. A perfect model achieves an F1 score of 1.0.\n",
    "    ***Support*** - The number of samples each metric was calculated on.\n",
    "    ***Accuracy*** - The accuracy of the model in decimal form. Perfect accuracy is equal to 1.0.\n",
    "    ***Macro avg*** - Short for macro average, the average precision, recall and F1 score between classes. Macro avg doesn’t class imbalance into effort, so if you do have class imbalances, pay attention to this metric.\n",
    "    ***Weighted avg*** - Short for weighted average, the weighted average precision, recall and F1 score between classes. Weighted means each metric is calculated with respect to how many samples there are in each class. This metric will favour the majority class (e.g. will give a high value when one class out performs another due to having more samples)."
   ]
  },
  {
   "cell_type": "code",
   "execution_count": null,
   "id": "ed3a4851",
   "metadata": {},
   "outputs": [],
   "source": []
  },
  {
   "cell_type": "code",
   "execution_count": 50,
   "id": "a9b26a5d",
   "metadata": {},
   "outputs": [
    {
     "name": "stdout",
     "output_type": "stream",
     "text": [
      "              precision    recall  f1-score   support\n",
      "\n",
      "           0       0.83      1.00      0.91     11641\n",
      "           1       0.46      0.02      0.04      2367\n",
      "\n",
      "    accuracy                           0.83     14008\n",
      "   macro avg       0.65      0.51      0.47     14008\n",
      "weighted avg       0.77      0.83      0.76     14008\n",
      "\n"
     ]
    }
   ],
   "source": [
    "print(CR_knn)"
   ]
  },
  {
   "cell_type": "code",
   "execution_count": 51,
   "id": "0d773a06",
   "metadata": {},
   "outputs": [
    {
     "name": "stdout",
     "output_type": "stream",
     "text": [
      "              precision    recall  f1-score   support\n",
      "\n",
      "           0       0.83      1.00      0.91     11641\n",
      "           1       0.00      0.00      0.00      2367\n",
      "\n",
      "    accuracy                           0.83     14008\n",
      "   macro avg       0.42      0.50      0.45     14008\n",
      "weighted avg       0.69      0.83      0.75     14008\n",
      "\n"
     ]
    }
   ],
   "source": [
    "print(CR_svc)"
   ]
  },
  {
   "cell_type": "code",
   "execution_count": 52,
   "id": "685d4e59",
   "metadata": {},
   "outputs": [
    {
     "name": "stdout",
     "output_type": "stream",
     "text": [
      "              precision    recall  f1-score   support\n",
      "\n",
      "           0       0.84      0.90      0.87     11641\n",
      "           1       0.24      0.15      0.19      2367\n",
      "\n",
      "    accuracy                           0.78     14008\n",
      "   macro avg       0.54      0.53      0.53     14008\n",
      "weighted avg       0.74      0.78      0.76     14008\n",
      "\n"
     ]
    }
   ],
   "source": [
    "print(CR_clf)"
   ]
  },
  {
   "cell_type": "code",
   "execution_count": null,
   "id": "259bad18",
   "metadata": {},
   "outputs": [],
   "source": []
  }
 ],
 "metadata": {
  "kernelspec": {
   "display_name": "Python 3 (ipykernel)",
   "language": "python",
   "name": "python3"
  },
  "language_info": {
   "codemirror_mode": {
    "name": "ipython",
    "version": 3
   },
   "file_extension": ".py",
   "mimetype": "text/x-python",
   "name": "python",
   "nbconvert_exporter": "python",
   "pygments_lexer": "ipython3",
   "version": "3.11.4"
  }
 },
 "nbformat": 4,
 "nbformat_minor": 5
}
